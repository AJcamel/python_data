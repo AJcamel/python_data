{
 "cells": [
  {
   "cell_type": "code",
   "execution_count": 1,
   "id": "04840903-e241-460d-9449-323db9b27447",
   "metadata": {},
   "outputs": [],
   "source": [
    "import numpy as np"
   ]
  },
  {
   "cell_type": "code",
   "execution_count": 31,
   "id": "59645f5d-7501-4553-b822-18dc4232ddc2",
   "metadata": {},
   "outputs": [],
   "source": [
    "# 初始化陣列\n",
    "x = np.array([2, 4, 6, 8, 10])\n",
    "y = np.array([10, 8, 6, 4, 2])"
   ]
  },
  {
   "cell_type": "code",
   "execution_count": 8,
   "id": "d32f488d-2865-4dcb-a812-dc7182fcaf11",
   "metadata": {},
   "outputs": [
    {
     "data": {
      "text/plain": [
       "array([0.5, 1. , 1.5, 2. , 2.5])"
      ]
     },
     "execution_count": 8,
     "metadata": {},
     "output_type": "execute_result"
    }
   ],
   "source": [
    "# 整數與陣列: 加法\n",
    "a = x / 4;a"
   ]
  },
  {
   "cell_type": "code",
   "execution_count": 12,
   "id": "91d24395-a7b7-4ce0-a633-e4b464492a60",
   "metadata": {},
   "outputs": [
    {
     "data": {
      "text/plain": [
       "array([0.2, 0.5, 1. , 2. , 5. ])"
      ]
     },
     "execution_count": 12,
     "metadata": {},
     "output_type": "execute_result"
    }
   ],
   "source": [
    "# 陣列加法運算\n",
    "a = x / y;a"
   ]
  },
  {
   "cell_type": "code",
   "execution_count": 15,
   "id": "517c9d8b-12cd-4d0e-a3da-684e20be7656",
   "metadata": {},
   "outputs": [],
   "source": [
    "# 陣列元素平方\n",
    "A = x**2\n",
    "B = y**2"
   ]
  },
  {
   "cell_type": "code",
   "execution_count": 16,
   "id": "002a9cb7-fdbf-4b3d-9218-8f3d7aa6bfab",
   "metadata": {},
   "outputs": [
    {
     "data": {
      "text/plain": [
       "array([  4,  16,  36,  64, 100])"
      ]
     },
     "execution_count": 16,
     "metadata": {},
     "output_type": "execute_result"
    }
   ],
   "source": [
    "A"
   ]
  },
  {
   "cell_type": "code",
   "execution_count": 17,
   "id": "5a2ecc48-9359-4e30-be0f-1ec5c6824d8b",
   "metadata": {},
   "outputs": [
    {
     "data": {
      "text/plain": [
       "array([100,  64,  36,  16,   4])"
      ]
     },
     "execution_count": 17,
     "metadata": {},
     "output_type": "execute_result"
    }
   ],
   "source": [
    "B"
   ]
  },
  {
   "cell_type": "code",
   "execution_count": 18,
   "id": "1153c769-6589-4def-a77a-ca5209994bad",
   "metadata": {},
   "outputs": [],
   "source": [
    "# 陣列元素開根號\n",
    "A = np.sqrt(x)\n",
    "B = np.sqrt(y)"
   ]
  },
  {
   "cell_type": "code",
   "execution_count": 19,
   "id": "2e9a197e-3f43-45ca-8648-2fdf4d83561e",
   "metadata": {},
   "outputs": [
    {
     "data": {
      "text/plain": [
       "array([1.41421356, 2.        , 2.44948974, 2.82842712, 3.16227766])"
      ]
     },
     "execution_count": 19,
     "metadata": {},
     "output_type": "execute_result"
    }
   ],
   "source": [
    "A"
   ]
  },
  {
   "cell_type": "code",
   "execution_count": 20,
   "id": "dd411eff-766c-4947-9e73-b2964ddfeca5",
   "metadata": {},
   "outputs": [
    {
     "data": {
      "text/plain": [
       "array([3.16227766, 2.82842712, 2.44948974, 2.        , 1.41421356])"
      ]
     },
     "execution_count": 20,
     "metadata": {},
     "output_type": "execute_result"
    }
   ],
   "source": [
    "B"
   ]
  },
  {
   "cell_type": "code",
   "execution_count": 32,
   "id": "09c74838-f02e-4ed8-9cee-007ebaf60905",
   "metadata": {},
   "outputs": [
    {
     "data": {
      "text/plain": [
       "array([False, False,  True, False, False])"
      ]
     },
     "execution_count": 32,
     "metadata": {},
     "output_type": "execute_result"
    }
   ],
   "source": [
    "# 大於\n",
    "a = x == y; a"
   ]
  },
  {
   "cell_type": "code",
   "execution_count": 33,
   "id": "200685e4-7b1f-48cd-8963-d6046c709b3c",
   "metadata": {},
   "outputs": [
    {
     "data": {
      "text/plain": [
       "2"
      ]
     },
     "execution_count": 33,
     "metadata": {},
     "output_type": "execute_result"
    }
   ],
   "source": [
    "# 指定索引\n",
    "x[0]"
   ]
  },
  {
   "cell_type": "code",
   "execution_count": 41,
   "id": "98782094-028e-417d-a124-0b9a0d252627",
   "metadata": {},
   "outputs": [
    {
     "data": {
      "text/plain": [
       "array([ 4,  6,  8, 10])"
      ]
     },
     "execution_count": 41,
     "metadata": {},
     "output_type": "execute_result"
    }
   ],
   "source": [
    "# 切片 (範圍: [start, end-1, step]\n",
    "x[1:5]"
   ]
  },
  {
   "cell_type": "code",
   "execution_count": 42,
   "id": "9fd0049f-f987-4010-821d-d63e8b1c1ccd",
   "metadata": {},
   "outputs": [
    {
     "data": {
      "text/plain": [
       "array([ 2,  4,  6,  8, 10, 10,  8,  6,  4,  2])"
      ]
     },
     "execution_count": 42,
     "metadata": {},
     "output_type": "execute_result"
    }
   ],
   "source": [
    "# 陣列結合\n",
    "z = np.concatenate((x, y)); z"
   ]
  },
  {
   "cell_type": "code",
   "execution_count": 44,
   "id": "f0f1f77c-275b-496b-93cb-61eb763bea1e",
   "metadata": {},
   "outputs": [
    {
     "data": {
      "text/plain": [
       "array([ 2,  4,  6,  8, 10, 12, 14, 16])"
      ]
     },
     "execution_count": 44,
     "metadata": {},
     "output_type": "execute_result"
    }
   ],
   "source": [
    "# 將陣列元素加入其它陣列\n",
    "z = np.concatenate((x, [12, 14, 16])); z"
   ]
  },
  {
   "cell_type": "code",
   "execution_count": 45,
   "id": "242361e5-8cdc-4e90-9fcf-c223c116fb75",
   "metadata": {},
   "outputs": [
    {
     "data": {
      "text/plain": [
       "array([ 2,  4,  9,  6,  8, 10])"
      ]
     },
     "execution_count": 45,
     "metadata": {},
     "output_type": "execute_result"
    }
   ],
   "source": [
    "# 在陣列指定索引 2 插入元素 9\n",
    "z = np.insert(x, 2, 9); z"
   ]
  },
  {
   "cell_type": "code",
   "execution_count": 46,
   "id": "4439c7a2-b7c5-4ea5-ac52-712d655d15bf",
   "metadata": {},
   "outputs": [
    {
     "data": {
      "text/plain": [
       "array([ 2,  7,  4,  6,  9,  8, 10])"
      ]
     },
     "execution_count": 46,
     "metadata": {},
     "output_type": "execute_result"
    }
   ],
   "source": [
    "# 在陣列指定索引 1 跟 3，分別插入元素 7 跟 9\n",
    "z = np.insert(x, [1,3], [7,9]); z"
   ]
  },
  {
   "cell_type": "code",
   "execution_count": 47,
   "id": "2de57b10-1364-4e8b-a592-6c367176c97f",
   "metadata": {},
   "outputs": [
    {
     "data": {
      "text/plain": [
       "array([ 2,  6,  8, 10])"
      ]
     },
     "execution_count": 47,
     "metadata": {},
     "output_type": "execute_result"
    }
   ],
   "source": [
    "# 刪除索引 1 的元素\n",
    "z = np.delete(x, 1); z"
   ]
  },
  {
   "cell_type": "code",
   "execution_count": 48,
   "id": "5f093a6c-c778-48ff-a6d2-eca2784c4004",
   "metadata": {},
   "outputs": [
    {
     "data": {
      "text/plain": [
       "array([ 2,  6, 10])"
      ]
     },
     "execution_count": 48,
     "metadata": {},
     "output_type": "execute_result"
    }
   ],
   "source": [
    "# 刪除索引 1 和 3 所放置的元素\n",
    "z = np.delete(x, [1, 3]); z"
   ]
  },
  {
   "cell_type": "code",
   "execution_count": 49,
   "id": "8ce57d44-e6ef-4175-aeba-1fa078142166",
   "metadata": {},
   "outputs": [
    {
     "data": {
      "text/plain": [
       "16"
      ]
     },
     "execution_count": 49,
     "metadata": {},
     "output_type": "execute_result"
    }
   ],
   "source": [
    "# 計算元素總和\n",
    "c = np.array([1, 3, 5, 7])\n",
    "d = np.sum(c); d"
   ]
  },
  {
   "cell_type": "code",
   "execution_count": 50,
   "id": "fba55b09-fb4b-4fdf-b8ef-1178e1a70f24",
   "metadata": {},
   "outputs": [
    {
     "data": {
      "text/plain": [
       "60"
      ]
     },
     "execution_count": 50,
     "metadata": {},
     "output_type": "execute_result"
    }
   ],
   "source": [
    "a = np.array([4, 5, 1, 3, 4])\n",
    "b = np.array([5, 3, 5, 4, 2])\n",
    "c = np.inner(a, b); c"
   ]
  },
  {
   "cell_type": "code",
   "execution_count": 52,
   "id": "04b15fd4-a4c5-425e-8026-62a64da2b9e3",
   "metadata": {},
   "outputs": [
    {
     "data": {
      "text/plain": [
       "0.8247081822488047"
      ]
     },
     "execution_count": 52,
     "metadata": {},
     "output_type": "execute_result"
    }
   ],
   "source": [
    "np.inner(a, b) / ((np.inner(a,a) ** 0.5) * (np.inner(b,b) ** 0.5))"
   ]
  }
 ],
 "metadata": {
  "kernelspec": {
   "display_name": "Python3@da",
   "language": "python",
   "name": "da"
  },
  "language_info": {
   "codemirror_mode": {
    "name": "ipython",
    "version": 3
   },
   "file_extension": ".py",
   "mimetype": "text/x-python",
   "name": "python",
   "nbconvert_exporter": "python",
   "pygments_lexer": "ipython3",
   "version": "3.10.14"
  }
 },
 "nbformat": 4,
 "nbformat_minor": 5
}
