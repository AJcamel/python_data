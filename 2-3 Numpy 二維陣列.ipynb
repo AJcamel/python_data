{
 "cells": [
  {
   "cell_type": "code",
   "execution_count": 1,
   "id": "24e8cfc6-2e57-4882-a12f-e97f9a29c04d",
   "metadata": {},
   "outputs": [],
   "source": [
    "import numpy as np"
   ]
  },
  {
   "cell_type": "code",
   "execution_count": 20,
   "id": "06a99847-0d9b-4024-9d22-0e32adfaff38",
   "metadata": {},
   "outputs": [],
   "source": [
    "# 建立二維陣列\n",
    "x = np.array([[1,2], [3,4]])\n",
    "y = np.array([[5,6], [7,8]])"
   ]
  },
  {
   "cell_type": "code",
   "execution_count": 17,
   "id": "dc0ca92d-adf3-4074-8e92-89d3fee5df3b",
   "metadata": {},
   "outputs": [
    {
     "data": {
      "text/plain": [
       "array([[False, False],\n",
       "       [False, False]])"
      ]
     },
     "execution_count": 17,
     "metadata": {},
     "output_type": "execute_result"
    }
   ],
   "source": [
    "# 與整數的加法運算\n",
    "a = x>y;a"
   ]
  },
  {
   "cell_type": "code",
   "execution_count": 21,
   "id": "befaa191-f0ee-460f-bc7f-2024e626a56a",
   "metadata": {},
   "outputs": [
    {
     "data": {
      "text/plain": [
       "2"
      ]
     },
     "execution_count": 21,
     "metadata": {},
     "output_type": "execute_result"
    }
   ],
   "source": [
    "# 取得二維陣列某元素內容\n",
    "x[0, 1]"
   ]
  },
  {
   "cell_type": "code",
   "execution_count": 23,
   "id": "5e685310-744b-458c-8710-8fd938d3e8b1",
   "metadata": {},
   "outputs": [
    {
     "data": {
      "text/plain": [
       "array([[ 5,  5,  6,  6],\n",
       "       [ 3,  3, 11,  2]])"
      ]
     },
     "execution_count": 23,
     "metadata": {},
     "output_type": "execute_result"
    }
   ],
   "source": [
    "# 設定二維陣列某元素內容\n",
    "tmp = np.array([\n",
    "    [5, 5, 6, 6,],\n",
    "    [3, 3, 1, 2]\n",
    "])\n",
    "tmp[1, 2] = 11; tmp"
   ]
  },
  {
   "cell_type": "code",
   "execution_count": 24,
   "id": "4ac1880b-27af-4c8d-8d06-27339262a7c5",
   "metadata": {},
   "outputs": [
    {
     "data": {
      "text/plain": [
       "array([1, 2])"
      ]
     },
     "execution_count": 24,
     "metadata": {},
     "output_type": "execute_result"
    }
   ],
   "source": [
    "# 取得 row = 0 的元素\n",
    "x[0]"
   ]
  },
  {
   "cell_type": "code",
   "execution_count": 27,
   "id": "244d0ddc-c2c1-4d27-984b-9caf5698bf8c",
   "metadata": {},
   "outputs": [
    {
     "data": {
      "text/plain": [
       "array([1, 3])"
      ]
     },
     "execution_count": 27,
     "metadata": {},
     "output_type": "execute_result"
    }
   ],
   "source": [
    "# 取得 column = 0 的元素\n",
    "x[:,0]"
   ]
  },
  {
   "cell_type": "code",
   "execution_count": 28,
   "id": "abe9b9df-ab00-4b55-9f70-e0b5c9751c06",
   "metadata": {},
   "outputs": [],
   "source": [
    "xx = np.array([\n",
    "    [1, 2, 3, 4], \n",
    "    [5, 6, 7, 8], \n",
    "    [9, 10, 11, 12]\n",
    "])"
   ]
  },
  {
   "cell_type": "code",
   "execution_count": 34,
   "id": "02706f9b-3a5b-4914-a311-1f6ebd35d170",
   "metadata": {},
   "outputs": [
    {
     "data": {
      "text/plain": [
       "array([1, 2, 3, 4])"
      ]
     },
     "execution_count": 34,
     "metadata": {},
     "output_type": "execute_result"
    }
   ],
   "source": [
    "xx[0,:4]"
   ]
  },
  {
   "cell_type": "code",
   "execution_count": 35,
   "id": "2c45ba16-5ca8-4085-8176-48da4cbc5ebe",
   "metadata": {},
   "outputs": [
    {
     "data": {
      "text/plain": [
       "array([[3, 4],\n",
       "       [7, 8]])"
      ]
     },
     "execution_count": 35,
     "metadata": {},
     "output_type": "execute_result"
    }
   ],
   "source": [
    "# 取得 row=0:2, column=2:4\n",
    "xx[0:2, 2:4]"
   ]
  },
  {
   "cell_type": "code",
   "execution_count": 40,
   "id": "51c558de-7eb0-44a6-a606-5d103b41cd3c",
   "metadata": {},
   "outputs": [
    {
     "data": {
      "text/plain": [
       "array([[1, 2, 3, 4],\n",
       "       [5, 6, 7, 8]])"
      ]
     },
     "execution_count": 40,
     "metadata": {},
     "output_type": "execute_result"
    }
   ],
   "source": [
    "# 取得前 2 個 row 的元素\n",
    "\n",
    "xx[:2]"
   ]
  },
  {
   "cell_type": "code",
   "execution_count": 41,
   "id": "0f54b3c0-7e8b-4898-953c-8ade46844081",
   "metadata": {},
   "outputs": [
    {
     "data": {
      "text/plain": [
       "array([[ 5,  6,  7,  8],\n",
       "       [ 9, 10, 11, 12]])"
      ]
     },
     "execution_count": 41,
     "metadata": {},
     "output_type": "execute_result"
    }
   ],
   "source": [
    "# 取得 row = 1 之後的元素\n",
    "xx[1:]"
   ]
  },
  {
   "cell_type": "code",
   "execution_count": 42,
   "id": "5c7e9ea3-2ed4-4491-8056-360978b9f48b",
   "metadata": {},
   "outputs": [],
   "source": [
    "# 建立一維陣列\n",
    "x1 = np.array([1, 2, 3, 4, 5, 6])"
   ]
  },
  {
   "cell_type": "code",
   "execution_count": 43,
   "id": "5fe5436c-0905-4f18-af2d-4884d79304d2",
   "metadata": {},
   "outputs": [
    {
     "data": {
      "text/plain": [
       "array([[1, 2, 3],\n",
       "       [4, 5, 6]])"
      ]
     },
     "execution_count": 43,
     "metadata": {},
     "output_type": "execute_result"
    }
   ],
   "source": [
    "y1 = x1.reshape(2,3); y1"
   ]
  },
  {
   "cell_type": "code",
   "execution_count": 44,
   "id": "81d69d6a-940a-4d7c-921b-ba54022c8114",
   "metadata": {},
   "outputs": [
    {
     "data": {
      "text/plain": [
       "array([1, 2, 3, 4, 5, 6])"
      ]
     },
     "execution_count": 44,
     "metadata": {},
     "output_type": "execute_result"
    }
   ],
   "source": [
    "# 將 2x3 陣列轉成一維陣列\n",
    "x2 = y1.ravel(); x2"
   ]
  },
  {
   "cell_type": "code",
   "execution_count": 45,
   "id": "d07fae70-fca2-4377-9226-19edc11204a7",
   "metadata": {},
   "outputs": [
    {
     "data": {
      "text/plain": [
       "array([[1, 2],\n",
       "       [3, 4],\n",
       "       [5, 6]])"
      ]
     },
     "execution_count": 45,
     "metadata": {},
     "output_type": "execute_result"
    }
   ],
   "source": [
    "y1.resize(3,2);y1"
   ]
  },
  {
   "cell_type": "code",
   "execution_count": 46,
   "id": "802f7033-f3a5-4afc-96ec-462fac0f768c",
   "metadata": {},
   "outputs": [
    {
     "data": {
      "text/plain": [
       "array([[0, 1],\n",
       "       [2, 3],\n",
       "       [4, 5],\n",
       "       [6, 7]])"
      ]
     },
     "execution_count": 46,
     "metadata": {},
     "output_type": "execute_result"
    }
   ],
   "source": [
    "a = np.arange(8).reshape(4,2); a"
   ]
  },
  {
   "cell_type": "code",
   "execution_count": 48,
   "id": "6b8ae252-edab-493f-9185-77282390d31b",
   "metadata": {},
   "outputs": [
    {
     "data": {
      "text/plain": [
       "array([[0, 2, 4, 6],\n",
       "       [1, 3, 5, 7]])"
      ]
     },
     "execution_count": 48,
     "metadata": {},
     "output_type": "execute_result"
    }
   ],
   "source": [
    "b = a.T; b"
   ]
  },
  {
   "cell_type": "code",
   "execution_count": 49,
   "id": "9b2aab7c-0288-42b1-8663-0e984cc52573",
   "metadata": {},
   "outputs": [
    {
     "data": {
      "text/plain": [
       "array([5, 6, 7])"
      ]
     },
     "execution_count": 49,
     "metadata": {},
     "output_type": "execute_result"
    }
   ],
   "source": [
    "# np.arange(3) + 5 是否等於 [5,6,7] ?\n",
    "a = np.arange(3) + 5; a"
   ]
  },
  {
   "cell_type": "code",
   "execution_count": 50,
   "id": "ab2d07c0-008a-4aa5-9c51-b51c9bb07e03",
   "metadata": {},
   "outputs": [
    {
     "data": {
      "text/plain": [
       "array([[1., 2., 3.],\n",
       "       [1., 2., 3.],\n",
       "       [1., 2., 3.]])"
      ]
     },
     "execution_count": 50,
     "metadata": {},
     "output_type": "execute_result"
    }
   ],
   "source": [
    "# np.ones((3, 3)) + np.arange(3) 是否等於 [[1,2,3],[1,2,3],[1,2,3]] ?\n",
    "a = np.ones((3, 3)) + np.arange(3); a"
   ]
  },
  {
   "cell_type": "code",
   "execution_count": 51,
   "id": "52794fbb-bf41-435d-bc91-f5d25f7f313a",
   "metadata": {},
   "outputs": [
    {
     "data": {
      "text/plain": [
       "array([[0, 1, 2],\n",
       "       [1, 2, 3],\n",
       "       [2, 3, 4]])"
      ]
     },
     "execution_count": 51,
     "metadata": {},
     "output_type": "execute_result"
    }
   ],
   "source": [
    "# np.arange(3).reshape((3,1)) + np.arange(3) 是否等於 [[0,1,2],[1,2,3],[2,3,4]] ?\n",
    "a = np.arange(3).reshape((3,1)) + np.arange(3); a"
   ]
  }
 ],
 "metadata": {
  "kernelspec": {
   "display_name": "Python3@da",
   "language": "python",
   "name": "da"
  },
  "language_info": {
   "codemirror_mode": {
    "name": "ipython",
    "version": 3
   },
   "file_extension": ".py",
   "mimetype": "text/x-python",
   "name": "python",
   "nbconvert_exporter": "python",
   "pygments_lexer": "ipython3",
   "version": "3.10.14"
  }
 },
 "nbformat": 4,
 "nbformat_minor": 5
}
