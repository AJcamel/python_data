{
 "cells": [
  {
   "cell_type": "code",
   "execution_count": 1,
   "id": "167a3019-c5eb-4ed2-a5ca-3e7afb37ece4",
   "metadata": {},
   "outputs": [],
   "source": [
    "import numpy as np"
   ]
  },
  {
   "cell_type": "code",
   "execution_count": 2,
   "id": "fed3239a-50b1-4faf-b58e-90cfd5d89b20",
   "metadata": {},
   "outputs": [
    {
     "data": {
      "text/plain": [
       "10"
      ]
     },
     "execution_count": 2,
     "metadata": {},
     "output_type": "execute_result"
    }
   ],
   "source": [
    "# 一維陣列的「和」 (加總)\n",
    "np.sum([1,2,3,4])"
   ]
  },
  {
   "cell_type": "code",
   "execution_count": 3,
   "id": "555fafa1-310a-4d3b-95d2-bc3e6e93ec68",
   "metadata": {},
   "outputs": [
    {
     "data": {
      "text/plain": [
       "10"
      ]
     },
     "execution_count": 3,
     "metadata": {},
     "output_type": "execute_result"
    }
   ],
   "source": [
    "# 二維陣列的「和」 (加總)\n",
    "np.sum([[1,2],[3,4]])"
   ]
  },
  {
   "cell_type": "code",
   "execution_count": 11,
   "id": "223d1186-33af-46d0-8f8d-60f9c7a72250",
   "metadata": {},
   "outputs": [
    {
     "data": {
      "text/plain": [
       "array([10, 26, 42])"
      ]
     },
     "execution_count": 11,
     "metadata": {},
     "output_type": "execute_result"
    }
   ],
   "source": [
    "# 二維陣列的「和」，指定軸 (axis) 來計算\n",
    "np.sum([[1,2,3,4],[5,6,7,8],[9,10,11,12]],axis=1)"
   ]
  },
  {
   "cell_type": "code",
   "execution_count": 23,
   "id": "3b15d32d-c82a-4903-9e27-984897489032",
   "metadata": {},
   "outputs": [
    {
     "data": {
      "text/plain": [
       "array([1., 2., 1., 3.])"
      ]
     },
     "execution_count": 23,
     "metadata": {},
     "output_type": "execute_result"
    }
   ],
   "source": [
    "# around(): 四捨五入到最近的「偶數值」\n",
    "np.trunc([1.5, 2.5, 1.6, 3.3])"
   ]
  },
  {
   "cell_type": "code",
   "execution_count": 26,
   "id": "135834eb-962b-4d66-9beb-c03a539153e6",
   "metadata": {},
   "outputs": [
    {
     "data": {
      "text/plain": [
       "array([3, 3])"
      ]
     },
     "execution_count": 26,
     "metadata": {},
     "output_type": "execute_result"
    }
   ],
   "source": [
    "# absolute(): 回傳絕對值\n",
    "np.absolute([-3, 3])"
   ]
  },
  {
   "cell_type": "code",
   "execution_count": 27,
   "id": "4f561fe8-7e63-45a0-87e7-5cf057b0e0e2",
   "metadata": {},
   "outputs": [
    {
     "data": {
      "text/plain": [
       "array([16, 81])"
      ]
     },
     "execution_count": 27,
     "metadata": {},
     "output_type": "execute_result"
    }
   ],
   "source": [
    "# square(): 回傳平方值\n",
    "np.square([4, 9])"
   ]
  },
  {
   "cell_type": "code",
   "execution_count": 28,
   "id": "4221853c-676e-4585-8074-85722e1ec335",
   "metadata": {},
   "outputs": [
    {
     "data": {
      "text/plain": [
       "array([2., 3.])"
      ]
     },
     "execution_count": 28,
     "metadata": {},
     "output_type": "execute_result"
    }
   ],
   "source": [
    "# sqrt(): 回傳平方根\n",
    "np.sqrt([4, 9])"
   ]
  },
  {
   "cell_type": "code",
   "execution_count": 43,
   "id": "991b277c-be51-4eb8-8213-35bc3944762f",
   "metadata": {},
   "outputs": [
    {
     "data": {
      "text/plain": [
       "array([0.68423303, 0.44015249, 0.12203823, 0.49517691])"
      ]
     },
     "execution_count": 43,
     "metadata": {},
     "output_type": "execute_result"
    }
   ],
   "source": [
    "np.random.seed(42)\n",
    "a = np.random.rand(4); a"
   ]
  },
  {
   "cell_type": "code",
   "execution_count": 70,
   "id": "8b3dfb52-fba8-4ec5-8f95-939165ef45b9",
   "metadata": {},
   "outputs": [
    {
     "data": {
      "text/plain": [
       "array([0, 4, 8, 5, 0, 0, 1, 8])"
      ]
     },
     "execution_count": 70,
     "metadata": {},
     "output_type": "execute_result"
    }
   ],
   "source": [
    "a = np.random.randint(0, 47, size=6); a\n",
    "b = np.random.randint(0, 9, size=8); b"
   ]
  },
  {
   "cell_type": "code",
   "execution_count": 59,
   "id": "02065183-42af-43f6-abc1-ddcd372e2aa1",
   "metadata": {},
   "outputs": [
    {
     "data": {
      "text/plain": [
       "array([1, 9, 7, 3, 0, 6, 2, 4, 5, 8])"
      ]
     },
     "execution_count": 59,
     "metadata": {},
     "output_type": "execute_result"
    }
   ],
   "source": [
    "x = np.arange(10)\n",
    "np.random.shuffle(x)\n",
    "x"
   ]
  }
 ],
 "metadata": {
  "kernelspec": {
   "display_name": "Python3@da",
   "language": "python",
   "name": "da"
  },
  "language_info": {
   "codemirror_mode": {
    "name": "ipython",
    "version": 3
   },
   "file_extension": ".py",
   "mimetype": "text/x-python",
   "name": "python",
   "nbconvert_exporter": "python",
   "pygments_lexer": "ipython3",
   "version": "3.10.14"
  }
 },
 "nbformat": 4,
 "nbformat_minor": 5
}
