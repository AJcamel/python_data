{
 "cells": [
  {
   "cell_type": "code",
   "execution_count": 2,
   "id": "db7bbbc9-5c59-46b1-909b-9b261366dc37",
   "metadata": {},
   "outputs": [],
   "source": [
    "import pandas as pd\n",
    "import numpy as np"
   ]
  },
  {
   "cell_type": "code",
   "execution_count": 3,
   "id": "d0266938-a940-4676-86bd-734fea0afad4",
   "metadata": {},
   "outputs": [
    {
     "data": {
      "text/plain": [
       "0    11\n",
       "1    22\n",
       "2    33\n",
       "3    44\n",
       "4    55\n",
       "5    66\n",
       "dtype: int64"
      ]
     },
     "execution_count": 3,
     "metadata": {},
     "output_type": "execute_result"
    }
   ],
   "source": [
    "# 使用 list 建立 series 物件\n",
    "s = pd.Series([11,22,33,44,55,66]); s"
   ]
  },
  {
   "cell_type": "code",
   "execution_count": 4,
   "id": "e4b39589-2789-49da-a185-c0f4c85027df",
   "metadata": {},
   "outputs": [
    {
     "data": {
      "text/plain": [
       "蘋果    60\n",
       "水梨    50\n",
       "dtype: int64"
      ]
     },
     "execution_count": 4,
     "metadata": {},
     "output_type": "execute_result"
    }
   ],
   "source": [
    "# 使用 dict 建立 series 物件\n",
    "myDict = {\"蘋果\": 60, \"水梨\": 50}\n",
    "s = pd.Series(myDict); s"
   ]
  },
  {
   "cell_type": "code",
   "execution_count": 6,
   "id": "379fd15d-1f9e-4df9-9384-83843a5e22bd",
   "metadata": {},
   "outputs": [
    {
     "data": {
      "text/plain": [
       "0     13\n",
       "1     14\n",
       "2     15\n",
       "3     16\n",
       "4     17\n",
       "5     18\n",
       "6     19\n",
       "7     20\n",
       "8     21\n",
       "9     22\n",
       "10    23\n",
       "dtype: int32"
      ]
     },
     "execution_count": 6,
     "metadata": {},
     "output_type": "execute_result"
    }
   ],
   "source": [
    "# 使用 Numpy 的 ndarray 建立 series 物件\n",
    "s = pd.Series(np.arange(13, 24)); s"
   ]
  },
  {
   "cell_type": "code",
   "execution_count": 7,
   "id": "8b25e673-6699-41c1-a20d-67c14e286f00",
   "metadata": {},
   "outputs": [
    {
     "data": {
      "text/plain": [
       "3    10\n",
       "6    20\n",
       "9    30\n",
       "dtype: int64"
      ]
     },
     "execution_count": 7,
     "metadata": {},
     "output_type": "execute_result"
    }
   ],
   "source": [
    "# 建立含索引的 series 物件\n",
    "myIndex = [3, 6, 9]\n",
    "price = [10 ,20, 30]\n",
    "s = pd.Series(price, index=myIndex); s"
   ]
  },
  {
   "cell_type": "code",
   "execution_count": 8,
   "id": "3e616474-d0f4-42b4-8118-ca2b8797f510",
   "metadata": {},
   "outputs": [
    {
     "data": {
      "text/plain": [
       "1    7\n",
       "2    7\n",
       "3    7\n",
       "dtype: int64"
      ]
     },
     "execution_count": 8,
     "metadata": {},
     "output_type": "execute_result"
    }
   ],
   "source": [
    "# 使用純量 (scalar) 建立 series\n",
    "s = pd.Series(7, index=[1,2,3]); s"
   ]
  },
  {
   "cell_type": "code",
   "execution_count": 15,
   "id": "019b5950-c12f-4452-8993-28a6cecbb13d",
   "metadata": {},
   "outputs": [
    {
     "data": {
      "text/plain": [
       "0    10\n",
       "1    20\n",
       "2    30\n",
       "dtype: int64"
      ]
     },
     "execution_count": 15,
     "metadata": {},
     "output_type": "execute_result"
    }
   ],
   "source": [
    "# 列出 series 物件索引與值\n",
    "s = pd.Series([10, 20, 30]); s"
   ]
  },
  {
   "cell_type": "code",
   "execution_count": 11,
   "id": "22cbc7bb-8f32-4f84-a8bc-55a63e92b777",
   "metadata": {},
   "outputs": [
    {
     "data": {
      "text/plain": [
       "array([10, 20, 30], dtype=int64)"
      ]
     },
     "execution_count": 11,
     "metadata": {},
     "output_type": "execute_result"
    }
   ],
   "source": [
    "# 承上，印出所有的值\n",
    "s.values"
   ]
  },
  {
   "cell_type": "code",
   "execution_count": 16,
   "id": "12eda83f-88d3-45a0-82ab-c9200ba03af6",
   "metadata": {},
   "outputs": [
    {
     "data": {
      "text/plain": [
       "RangeIndex(start=0, stop=3, step=1)"
      ]
     },
     "execution_count": 16,
     "metadata": {},
     "output_type": "execute_result"
    }
   ],
   "source": [
    "# 承上，印出所有的索引編號\n",
    "s.index"
   ]
  },
  {
   "cell_type": "code",
   "execution_count": 20,
   "id": "fd20e4fd-1e83-4480-9b2f-2b078f7fd76f",
   "metadata": {},
   "outputs": [
    {
     "data": {
      "text/plain": [
       "0    11\n",
       "1    22\n",
       "2    33\n",
       "3    44\n",
       "4    55\n",
       "5    66\n",
       "dtype: int64"
      ]
     },
     "execution_count": 20,
     "metadata": {},
     "output_type": "execute_result"
    }
   ],
   "source": [
    "# 將切片觀念用在 series 物件\n",
    "s = pd.Series([11, 22, 33, 44, 55, 66]); s"
   ]
  },
  {
   "cell_type": "code",
   "execution_count": 18,
   "id": "68bf7c60-52d2-44bc-a4a4-e6e460af411e",
   "metadata": {},
   "outputs": [
    {
     "data": {
      "text/plain": [
       "44"
      ]
     },
     "execution_count": 18,
     "metadata": {},
     "output_type": "execute_result"
    }
   ],
   "source": [
    "s[3]"
   ]
  },
  {
   "cell_type": "code",
   "execution_count": 23,
   "id": "2db1c9d1-2208-4515-8d76-900dbdbf3640",
   "metadata": {},
   "outputs": [
    {
     "data": {
      "text/plain": [
       "3    44\n",
       "4    55\n",
       "5    66\n",
       "dtype: int64"
      ]
     },
     "execution_count": 23,
     "metadata": {},
     "output_type": "execute_result"
    }
   ],
   "source": [
    "s[3:6]"
   ]
  },
  {
   "cell_type": "code",
   "execution_count": 25,
   "id": "5372f83e-0172-4cf3-9eaf-060ffc27e608",
   "metadata": {},
   "outputs": [
    {
     "data": {
      "text/plain": [
       "0    11\n",
       "1    22\n",
       "2    33\n",
       "dtype: int64"
      ]
     },
     "execution_count": 25,
     "metadata": {},
     "output_type": "execute_result"
    }
   ],
   "source": [
    "s[:3]"
   ]
  },
  {
   "cell_type": "code",
   "execution_count": 26,
   "id": "07097354-1c8c-4128-a8c3-37cf85af695a",
   "metadata": {},
   "outputs": [
    {
     "data": {
      "text/plain": [
       "5    66\n",
       "dtype: int64"
      ]
     },
     "execution_count": 26,
     "metadata": {},
     "output_type": "execute_result"
    }
   ],
   "source": [
    "# series 只能使用 slicing，無法直接使用 -1 來取得最後一個元素的值\n",
    "s[-1:]"
   ]
  },
  {
   "cell_type": "code",
   "execution_count": 33,
   "id": "ddc67579-5d26-4ccd-b629-24419b9432ec",
   "metadata": {},
   "outputs": [
    {
     "data": {
      "text/plain": [
       "0    False\n",
       "1    False\n",
       "dtype: bool"
      ]
     },
     "execution_count": 33,
     "metadata": {},
     "output_type": "execute_result"
    }
   ],
   "source": [
    "# series 物件相加\n",
    "x = pd.Series([1, 2])\n",
    "y = pd.Series([3, 4])\n",
    "x > y"
   ]
  },
  {
   "cell_type": "code",
   "execution_count": 38,
   "id": "99e05999-4c1f-4aba-bbe6-641772db37c1",
   "metadata": {},
   "outputs": [
    {
     "data": {
      "text/plain": [
       "apple     20\n",
       "orange    30\n",
       "pear      40\n",
       "dtype: int64"
      ]
     },
     "execution_count": 38,
     "metadata": {},
     "output_type": "execute_result"
    }
   ],
   "source": [
    "# 擁有相同的 index (或 key)，執行相加\n",
    "fruits = ['apple', 'orange', 'pear']\n",
    "x = pd.Series([20, 30, 40], index=fruits); x"
   ]
  },
  {
   "cell_type": "code",
   "execution_count": 46,
   "id": "551e900e-7f4d-4b12-a8e8-054d20515b08",
   "metadata": {},
   "outputs": [
    {
     "data": {
      "text/plain": [
       "40"
      ]
     },
     "execution_count": 46,
     "metadata": {},
     "output_type": "execute_result"
    }
   ],
   "source": [
    "x['pear']"
   ]
  },
  {
   "cell_type": "code",
   "execution_count": 47,
   "id": "4e8a1319-074a-4b8a-8e56-d2049c32277f",
   "metadata": {},
   "outputs": [
    {
     "data": {
      "text/plain": [
       "apple     20\n",
       "orange    30\n",
       "dtype: int64"
      ]
     },
     "execution_count": 47,
     "metadata": {},
     "output_type": "execute_result"
    }
   ],
   "source": [
    "# 取得多個 key 的資料，要使用 list 包起來 (在 pandas 很常用)\n",
    "x[['apple','orange']]"
   ]
  },
  {
   "cell_type": "code",
   "execution_count": 48,
   "id": "94e8b36b-afc0-4332-8709-7dd81470866d",
   "metadata": {},
   "outputs": [
    {
     "data": {
      "text/plain": [
       "apple      400\n",
       "orange     900\n",
       "pear      1600\n",
       "dtype: int64"
      ]
     },
     "execution_count": 48,
     "metadata": {},
     "output_type": "execute_result"
    }
   ],
   "source": [
    "# 每個元素都取得平方值\n",
    "np.square(x)"
   ]
  }
 ],
 "metadata": {
  "kernelspec": {
   "display_name": "Python3@da",
   "language": "python",
   "name": "da"
  },
  "language_info": {
   "codemirror_mode": {
    "name": "ipython",
    "version": 3
   },
   "file_extension": ".py",
   "mimetype": "text/x-python",
   "name": "python",
   "nbconvert_exporter": "python",
   "pygments_lexer": "ipython3",
   "version": "3.10.14"
  }
 },
 "nbformat": 4,
 "nbformat_minor": 5
}
